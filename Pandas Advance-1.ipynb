{
 "cells": [
  {
   "cell_type": "markdown",
   "id": "ef44a927-ec45-4b4e-9a23-696092de0cd4",
   "metadata": {},
   "source": [
    "Q1. List any five functions of the pandas library with execution.\n",
    "\n",
    "Here are five commonly used functions in the pandas library along with sample code snippets:\n",
    "\n",
    "read_csv() - Reading Data from CSV:\n",
    "\n",
    "This function is used to read data from a CSV file and create a DataFrame."
   ]
  },
  {
   "cell_type": "code",
   "execution_count": null,
   "id": "d3319283-03f2-4879-aaec-c90833cf8223",
   "metadata": {},
   "outputs": [],
   "source": [
    "import pandas as pd\n",
    "\n",
    "# Read data from a CSV file into a DataFrame\n",
    "df = pd.read_csv('example.csv')\n",
    "\n",
    "# Display the DataFrame\n",
    "print(df.head())\n"
   ]
  },
  {
   "cell_type": "markdown",
   "id": "36e26a51-7354-4f30-a33d-8a1823c2d9fd",
   "metadata": {},
   "source": [
    "head() - Displaying the First Rows:\n",
    "\n",
    "The head() function is used to display the first few rows of a DataFrame."
   ]
  },
  {
   "cell_type": "code",
   "execution_count": null,
   "id": "5af2e00e-c53b-4b89-ad9f-3a6d686a67db",
   "metadata": {},
   "outputs": [],
   "source": [
    "# Display the first 5 rows of the DataFrame\n",
    "print(df.head())\n"
   ]
  },
  {
   "cell_type": "markdown",
   "id": "d77555fb-d884-4dcc-9c6c-3d426f075f62",
   "metadata": {},
   "source": [
    "describe() - Descriptive Statistics:\n",
    "\n",
    "describe() generates descriptive statistics, including measures of central tendency, dispersion, and shape of the distribution."
   ]
  },
  {
   "cell_type": "code",
   "execution_count": null,
   "id": "09bb0bf0-f69b-4436-87df-89b8849c6143",
   "metadata": {},
   "outputs": [],
   "source": [
    "# Display summary statistics for numerical columns\n",
    "print(df.describe())\n"
   ]
  },
  {
   "cell_type": "markdown",
   "id": "201ded75-f204-4605-930d-b2243e19aae9",
   "metadata": {},
   "source": [
    "groupby() - Grouping and Aggregating Data:\n",
    "\n",
    "The groupby() function is used to group data based on a column and perform aggregate functions."
   ]
  },
  {
   "cell_type": "code",
   "execution_count": null,
   "id": "1c770beb-1ec5-479b-90fd-779e342b384a",
   "metadata": {},
   "outputs": [],
   "source": [
    "# Group by 'Category' and calculate the mean for each group\n",
    "grouped_data = df.groupby('Category')['Value'].mean()\n",
    "print(grouped_data)\n"
   ]
  },
  {
   "cell_type": "markdown",
   "id": "6db11a09-7ae5-4c49-870a-71db1f983e67",
   "metadata": {},
   "source": [
    "plot() - Creating Plots:\n",
    "\n",
    "The plot() function is used for creating various plots directly from a DataFrame."
   ]
  },
  {
   "cell_type": "code",
   "execution_count": null,
   "id": "c1c24bdf-2fdf-4490-bf8d-f3593b3be172",
   "metadata": {},
   "outputs": [],
   "source": [
    "# Create a line plot of a numerical column\n",
    "df['Value'].plot(kind='line', title='Line Plot')\n",
    "plt.show()\n"
   ]
  },
  {
   "cell_type": "markdown",
   "id": "a9d146a9-4113-4134-8f6f-4a9f61a308b7",
   "metadata": {},
   "source": [
    "Q2. Given a Pandas DataFrame df with columns 'A', 'B', and 'C', write a Python function to re-index the\n",
    "DataFrame with a new index that starts from 1 and increments by 2 for each row."
   ]
  },
  {
   "cell_type": "markdown",
   "id": "8d7f9ce9-fc7a-43a7-a086-288c939f9954",
   "metadata": {},
   "source": [
    "You can use the reset_index() function along with a custom index to achieve this. Here's a Python function that re-indexes a DataFrame with a new index starting from 1 and incrementing by 2 for each row:"
   ]
  },
  {
   "cell_type": "code",
   "execution_count": 1,
   "id": "67be74e7-0588-4ef4-9dfd-146a682546a3",
   "metadata": {},
   "outputs": [
    {
     "name": "stdout",
     "output_type": "stream",
     "text": [
      "    A   B   C\n",
      "1  10  40  70\n",
      "3  20  50  80\n",
      "5  30  60  90\n"
     ]
    }
   ],
   "source": [
    "import pandas as pd\n",
    "\n",
    "def reindex_dataframe(df):\n",
    "    # Create a new index starting from 1 and incrementing by 2\n",
    "    new_index = range(1, 2 * len(df) + 1, 2)\n",
    "\n",
    "    # Assign the new index to the DataFrame\n",
    "    df_reindexed = df.reset_index(drop=True)\n",
    "    df_reindexed.index = new_index\n",
    "\n",
    "    return df_reindexed\n",
    "\n",
    "# Example usage:\n",
    "# Assuming df is your original DataFrame with columns 'A', 'B', 'C'\n",
    "df = pd.DataFrame({'A': [10, 20, 30],\n",
    "                   'B': [40, 50, 60],\n",
    "                   'C': [70, 80, 90]})\n",
    "\n",
    "# Call the function to re-index the DataFrame\n",
    "df_reindexed = reindex_dataframe(df)\n",
    "\n",
    "# Display the re-indexed DataFrame\n",
    "print(df_reindexed)\n"
   ]
  },
  {
   "cell_type": "markdown",
   "id": "84a03320-bf0d-498b-94ac-39f073689391",
   "metadata": {},
   "source": [
    "Q3. You have a Pandas DataFrame df with a column named 'Values'. Write a Python function that\n",
    "iterates over the DataFrame and calculates the sum of the first three values in the 'Values' column. The\n",
    "function should print the sum to the console.\n",
    "For example, if the 'Values' column of df contains the values [10, 20, 30, 40, 50], your function should\n",
    "calculate and print the sum of the first three values, which is 60."
   ]
  },
  {
   "cell_type": "markdown",
   "id": "dadec44d-9312-4db8-a48e-b0b685cb8b81",
   "metadata": {},
   "source": [
    "You can create a Python function that iterates over the DataFrame and calculates the sum of the first three values in the 'Values' column. Here's an example:"
   ]
  },
  {
   "cell_type": "code",
   "execution_count": 2,
   "id": "d899545c-26e2-4e9e-9394-64367666e421",
   "metadata": {},
   "outputs": [
    {
     "name": "stdout",
     "output_type": "stream",
     "text": [
      "Sum of the first three values: 60\n"
     ]
    }
   ],
   "source": [
    "import pandas as pd\n",
    "\n",
    "def calculate_sum_of_first_three(df):\n",
    "    # Check if 'Values' column exists in the DataFrame\n",
    "    if 'Values' in df.columns:\n",
    "        # Extract the 'Values' column and calculate the sum of the first three values\n",
    "        values_column = df['Values'].head(3)\n",
    "        sum_of_first_three = values_column.sum()\n",
    "\n",
    "        # Print the result to the console\n",
    "        print(\"Sum of the first three values:\", sum_of_first_three)\n",
    "    else:\n",
    "        print(\"DataFrame does not contain a 'Values' column.\")\n",
    "\n",
    "# Example usage:\n",
    "# Assuming df is your DataFrame with a 'Values' column\n",
    "df = pd.DataFrame({'Values': [10, 20, 30, 40, 50]})\n",
    "\n",
    "# Call the function to calculate and print the sum of the first three values\n",
    "calculate_sum_of_first_three(df)\n"
   ]
  },
  {
   "cell_type": "markdown",
   "id": "14c9c939-1f9e-4da2-aff3-a8966bce982b",
   "metadata": {},
   "source": [
    "Q4. Given a Pandas DataFrame df with a column 'Text', write a Python function to create a new column\n",
    "'Word_Count' that contains the number of words in each row of the 'Text' column."
   ]
  },
  {
   "cell_type": "markdown",
   "id": "e6978f4e-b3fa-4364-addc-64cbf029346e",
   "metadata": {},
   "source": [
    " You can create a Python function that calculates the number of words in each row of the 'Text' column and adds a new column 'Word_Count' to the DataFrame. Here's an example:\n",
    "\n",
    "python"
   ]
  },
  {
   "cell_type": "code",
   "execution_count": 3,
   "id": "122bb860-22dd-4a16-94fd-0aa4b6361b3d",
   "metadata": {},
   "outputs": [
    {
     "name": "stdout",
     "output_type": "stream",
     "text": [
      "                     Text  Word_Count\n",
      "0  This is a sample text.           5\n",
      "1        Another example.           2\n",
      "2       Just a few words.           4\n"
     ]
    }
   ],
   "source": [
    "import pandas as pd\n",
    "\n",
    "def calculate_word_count(df):\n",
    "    # Check if 'Text' column exists in the DataFrame\n",
    "    if 'Text' in df.columns:\n",
    "        # Calculate the number of words in each row and create a new 'Word_Count' column\n",
    "        df['Word_Count'] = df['Text'].apply(lambda x: len(str(x).split()))\n",
    "\n",
    "        # Optionally, you can display the DataFrame with the new column\n",
    "        print(df)\n",
    "    else:\n",
    "        print(\"DataFrame does not contain a 'Text' column.\")\n",
    "\n",
    "# Example usage:\n",
    "# Assuming df is your DataFrame with a 'Text' column\n",
    "df = pd.DataFrame({'Text': ['This is a sample text.', 'Another example.', 'Just a few words.']})\n",
    "\n",
    "# Call the function to calculate and add the 'Word_Count' column\n",
    "calculate_word_count(df)\n"
   ]
  },
  {
   "cell_type": "markdown",
   "id": "587ed64a-a5f8-49de-9337-31f2a5a2f949",
   "metadata": {},
   "source": [
    "Q5. How are DataFrame.size() and DataFrame.shape() different?"
   ]
  },
  {
   "cell_type": "markdown",
   "id": "7eedb3a7-af3b-40a6-ae29-452a473a0439",
   "metadata": {},
   "source": [
    "There's a small mistake in your question. It should be DataFrame.size and DataFrame.shape (without parentheses). Let me clarify the difference between the two:\n",
    "\n",
    "DataFrame.size:\n",
    "\n",
    "DataFrame.size returns the total number of elements in the DataFrame.\n",
    "It is calculated by multiplying the number of rows by the number of columns.\n",
    "The result includes all elements, regardless of their values (NaN or non-NaN)."
   ]
  },
  {
   "cell_type": "code",
   "execution_count": 4,
   "id": "8a63861b-1b21-4845-a06e-64e044333e7b",
   "metadata": {},
   "outputs": [
    {
     "name": "stdout",
     "output_type": "stream",
     "text": [
      "6\n"
     ]
    }
   ],
   "source": [
    "import pandas as pd\n",
    "\n",
    "df = pd.DataFrame({'A': [1, 2, 3], 'B': [4, 5, 6]})\n",
    "size = df.size\n",
    "print(size)  \n"
   ]
  },
  {
   "cell_type": "markdown",
   "id": "2a5f7b75-3c7c-4759-9319-b90d942bc4ad",
   "metadata": {},
   "source": [
    "DataFrame.shape:\n",
    "\n",
    "DataFrame.shape returns a tuple representing the dimensions of the DataFrame.\n",
    "The tuple contains two elements: the number of rows and the number of columns.\n",
    "It provides information about the structure of the DataFrame."
   ]
  },
  {
   "cell_type": "code",
   "execution_count": 5,
   "id": "8c93ee90-95bb-40c1-92f3-8bd3642011af",
   "metadata": {},
   "outputs": [
    {
     "name": "stdout",
     "output_type": "stream",
     "text": [
      "(3, 2)\n"
     ]
    }
   ],
   "source": [
    "import pandas as pd\n",
    "\n",
    "df = pd.DataFrame({'A': [1, 2, 3], 'B': [4, 5, 6]})\n",
    "shape = df.shape\n",
    "print(shape)  \n"
   ]
  },
  {
   "cell_type": "markdown",
   "id": "00bf7ba5-884a-4770-842c-2c0755dc7b57",
   "metadata": {},
   "source": [
    "Q6. Which function of pandas do we use to read an excel file?"
   ]
  },
  {
   "cell_type": "markdown",
   "id": "253ded67-5704-4f13-b511-a20bf98fc40a",
   "metadata": {},
   "source": [
    "In pandas, the function used to read an Excel file is pd.read_excel(). This function is part of the pandas library and is specifically designed to read data from Excel files and create a DataFrame."
   ]
  },
  {
   "cell_type": "code",
   "execution_count": null,
   "id": "61ae6c62-8fab-48a5-8e32-8d3357c5ac49",
   "metadata": {},
   "outputs": [],
   "source": [
    "import pandas as pd\n",
    "\n",
    "# Specify the path to the Excel file\n",
    "excel_file_path = 'path/to/your/excel/file.xlsx'\n",
    "\n",
    "# Read the Excel file into a DataFrame\n",
    "df = pd.read_excel(excel_file_path)\n",
    "\n",
    "# Display the DataFrame\n",
    "print(df)\n"
   ]
  },
  {
   "cell_type": "markdown",
   "id": "0a1d2137-0f73-4369-a7c9-2d162c2e1506",
   "metadata": {},
   "source": [
    "Q7. You have a Pandas DataFrame df that contains a column named 'Email' that contains email\n",
    "addresses in the format 'username@domain.com'. Write a Python function that creates a new column\n",
    "'Username' in df that contains only the username part of each email address.\n",
    "The username is the part of the email address that appears before the '@' symbol. For example, if the\n",
    "email address is 'john.doe@example.com', the 'Username' column should contain 'john.doe'. Your\n",
    "function should extract the username from each email address and store it in the new 'Username'\n",
    "column."
   ]
  },
  {
   "cell_type": "code",
   "execution_count": 6,
   "id": "44240728-5f25-45d7-8251-105b21fe7edb",
   "metadata": {},
   "outputs": [
    {
     "name": "stdout",
     "output_type": "stream",
     "text": [
      "                     Email     Username\n",
      "0     john.doe@example.com     john.doe\n",
      "1  alice.smith@example.com  alice.smith\n",
      "2    bob.jones@example.com    bob.jones\n"
     ]
    }
   ],
   "source": [
    "import pandas as pd\n",
    "\n",
    "def extract_username(df):\n",
    "    # Check if 'Email' column exists in the DataFrame\n",
    "    if 'Email' in df.columns:\n",
    "        # Extract the username from each email address and create a new 'Username' column\n",
    "        df['Username'] = df['Email'].apply(lambda email: email.split('@')[0])\n",
    "\n",
    "        # Optionally, you can display the DataFrame with the new column\n",
    "        print(df)\n",
    "    else:\n",
    "        print(\"DataFrame does not contain an 'Email' column.\")\n",
    "\n",
    "# Example usage:\n",
    "# Assuming df is your DataFrame with an 'Email' column\n",
    "df = pd.DataFrame({'Email': ['john.doe@example.com', 'alice.smith@example.com', 'bob.jones@example.com']})\n",
    "\n",
    "# Call the function to extract and add the 'Username' column\n",
    "extract_username(df)\n"
   ]
  },
  {
   "cell_type": "markdown",
   "id": "16e904eb-4429-4cba-8059-9371a390e3de",
   "metadata": {},
   "source": [
    "Q8. You have a Pandas DataFrame df with columns 'A', 'B', and 'C'. Write a Python function that selects\n",
    "all rows where the value in column 'A' is greater than 5 and the value in column 'B' is less than 10. The\n",
    "function should return a new DataFrame that contains only the selected rows.\n",
    "For example, if df contains the following values:\n",
    "A B C\n",
    "0 3 5 1\n",
    "1 8 2 7\n",
    "2 6 9 4\n",
    "3 2 3 5\n",
    "4 9 1 2\n",
    "\n",
    "Assignment\n",
    "\n",
    "Data Science Masters\n",
    "\n",
    "Your function should select the following rows: A B C\n",
    "1 8 2 7\n",
    "4 9 1 2\n",
    "The function should return a new DataFrame that contains only the selected rows."
   ]
  },
  {
   "cell_type": "code",
   "execution_count": 7,
   "id": "95c89646-2292-4a1f-989d-99af13c2cac4",
   "metadata": {},
   "outputs": [
    {
     "name": "stdout",
     "output_type": "stream",
     "text": [
      "   A  B  C\n",
      "1  8  2  7\n",
      "2  6  9  4\n",
      "4  9  1  2\n"
     ]
    }
   ],
   "source": [
    "import pandas as pd\n",
    "\n",
    "def select_rows(df):\n",
    "    # Check if columns 'A' and 'B' exist in the DataFrame\n",
    "    if 'A' in df.columns and 'B' in df.columns:\n",
    "        # Select rows where 'A' is greater than 5 and 'B' is less than 10\n",
    "        selected_rows = df[(df['A'] > 5) & (df['B'] < 10)]\n",
    "\n",
    "        # Optionally, you can display the selected rows\n",
    "        print(selected_rows)\n",
    "        \n",
    "        return selected_rows\n",
    "    else:\n",
    "        print(\"DataFrame does not contain columns 'A' and 'B'.\")\n",
    "        return pd.DataFrame()\n",
    "\n",
    "# Example usage:\n",
    "# Assuming df is your DataFrame with columns 'A', 'B', and 'C'\n",
    "df = pd.DataFrame({'A': [3, 8, 6, 2, 9],\n",
    "                   'B': [5, 2, 9, 3, 1],\n",
    "                   'C': [1, 7, 4, 5, 2]})\n",
    "\n",
    "# Call the function to select and display rows based on the conditions\n",
    "selected_df = select_rows(df)\n"
   ]
  },
  {
   "cell_type": "markdown",
   "id": "1aad5967-87f3-4501-9a53-9a08ff261242",
   "metadata": {},
   "source": [
    "Q9. Given a Pandas DataFrame df with a column 'Values', write a Python function to calculate the mean,\n",
    "median, and standard deviation of the values in the 'Values' column."
   ]
  },
  {
   "cell_type": "code",
   "execution_count": 8,
   "id": "7b6123fc-b34a-4c17-86b5-4b8bd801b9c0",
   "metadata": {},
   "outputs": [
    {
     "name": "stdout",
     "output_type": "stream",
     "text": [
      "Mean: 30.0\n",
      "Median: 30.0\n",
      "Standard Deviation: 15.811388300841896\n"
     ]
    },
    {
     "data": {
      "text/plain": [
       "(30.0, 30.0, 15.811388300841896)"
      ]
     },
     "execution_count": 8,
     "metadata": {},
     "output_type": "execute_result"
    }
   ],
   "source": [
    "import pandas as pd\n",
    "\n",
    "def calculate_statistics(df):\n",
    "    # Check if 'Values' column exists in the DataFrame\n",
    "    if 'Values' in df.columns:\n",
    "        # Calculate mean, median, and standard deviation\n",
    "        mean_value = df['Values'].mean()\n",
    "        median_value = df['Values'].median()\n",
    "        std_deviation = df['Values'].std()\n",
    "\n",
    "        # Display the results\n",
    "        print(\"Mean:\", mean_value)\n",
    "        print(\"Median:\", median_value)\n",
    "        print(\"Standard Deviation:\", std_deviation)\n",
    "\n",
    "        # Optionally, you can return the calculated statistics\n",
    "        return mean_value, median_value, std_deviation\n",
    "    else:\n",
    "        print(\"DataFrame does not contain a 'Values' column.\")\n",
    "        return None\n",
    "\n",
    "# Example usage:\n",
    "# Assuming df is your DataFrame with a 'Values' column\n",
    "df = pd.DataFrame({'Values': [10, 20, 30, 40, 50]})\n",
    "\n",
    "# Call the function to calculate and display statistics\n",
    "calculate_statistics(df)\n"
   ]
  },
  {
   "cell_type": "markdown",
   "id": "fb5593f6-cca8-485d-bae4-7ec1f55aa135",
   "metadata": {},
   "source": [
    "Q10. Given a Pandas DataFrame df with a column 'Sales' and a column 'Date', write a Python function to\n",
    "create a new column 'MovingAverage' that contains the moving average of the sales for the past 7 days\n",
    "for each row in the DataFrame. The moving average should be calculated using a window of size 7 and\n",
    "should include the current day."
   ]
  },
  {
   "cell_type": "code",
   "execution_count": 9,
   "id": "3d688cef-f906-4876-afae-7b08bc8ab419",
   "metadata": {},
   "outputs": [],
   "source": [
    "import pandas as pd\n",
    "\n",
    "def add_moving_average(df):\n",
    "    # Sort DataFrame by 'Date' column if not already sorted\n",
    "    df = df.sort_values(by='Date')\n",
    "\n",
    "    # Calculate moving average using a window of size 7\n",
    "    df['MovingAverage'] = df['Sales'].rolling(window=7, min_periods=1).mean()\n",
    "\n",
    "    return df\n",
    "\n",
    "# Example usage:\n",
    "# Assuming df is your DataFrame with 'Sales' and 'Date' columns\n",
    "# df = pd.DataFrame({'Date': ['2024-01-01', '2024-01-02', '2024-01-03', '2024-01-04', '2024-01-05'],\n",
    "#                    'Sales': [10, 20, 30, 40, 50]})\n",
    "# df['Date'] = pd.to_datetime(df['Date'])\n",
    "# df = add_moving_average(df)\n",
    "# print(df)\n"
   ]
  },
  {
   "cell_type": "markdown",
   "id": "7f99322e-1227-47b8-b5f8-63bfd4dfd694",
   "metadata": {},
   "source": [
    "Q11. You have a Pandas DataFrame df with a column 'Date'. Write a Python function that creates a new\n",
    "column 'Weekday' in the DataFrame. The 'Weekday' column should contain the weekday name (e.g.\n",
    "Monday, Tuesday) corresponding to each date in the 'Date' column.\n",
    "For example, if df contains the following values:\n",
    "Date\n",
    "0 2023-01-01\n",
    "1 2023-01-02\n",
    "2 2023-01-03\n",
    "3 2023-01-04\n",
    "4 2023-01-05\n",
    "Your function should create the following DataFrame:\n",
    "\n",
    "Date Weekday\n",
    "0 2023-01-01 Sunday\n",
    "1 2023-01-02 Monday\n",
    "2 2023-01-03 Tuesday\n",
    "3 2023-01-04 Wednesday\n",
    "4 2023-01-05 Thursday\n",
    "The function should return the modified DataFrame."
   ]
  },
  {
   "cell_type": "code",
   "execution_count": 10,
   "id": "3bbd4168-18bc-45c6-9d2b-d5d77c8c9881",
   "metadata": {},
   "outputs": [],
   "source": [
    "import pandas as pd\n",
    "\n",
    "def add_weekday_column(df):\n",
    "    # Convert 'Date' column to datetime if it's not already\n",
    "    df['Date'] = pd.to_datetime(df['Date'])\n",
    "\n",
    "    # Add a new 'Weekday' column with the weekday names\n",
    "    df['Weekday'] = df['Date'].dt.day_name()\n",
    "\n",
    "    return df\n",
    "\n",
    "# Example usage:\n",
    "# Assuming df is your DataFrame with 'Date' column\n",
    "# df = pd.DataFrame({'Date': ['2023-01-01', '2023-01-02', '2023-01-03', '2023-01-04', '2023-01-05']})\n",
    "# df = add_weekday_column(df)\n",
    "# print(df)\n"
   ]
  },
  {
   "cell_type": "markdown",
   "id": "f8839776-f2a7-4b38-b71b-cecc92e0c4b1",
   "metadata": {},
   "source": [
    "Q12. Given a Pandas DataFrame df with a column 'Date' that contains timestamps, write a Python\n",
    "function to select all rows where the date is between '2023-01-01' and '2023-01-31'."
   ]
  },
  {
   "cell_type": "code",
   "execution_count": 11,
   "id": "a0367c9a-2577-406b-917c-5ce28afba668",
   "metadata": {},
   "outputs": [],
   "source": [
    "import pandas as pd\n",
    "\n",
    "def select_rows_between_dates(df):\n",
    "    # Assuming 'Date' column is in datetime format, if not, you can convert it using pd.to_datetime(df['Date'])\n",
    "    df['Date'] = pd.to_datetime(df['Date'])\n",
    "    \n",
    "    # Define the start and end dates\n",
    "    start_date = '2023-01-01'\n",
    "    end_date = '2023-01-31'\n",
    "    \n",
    "    # Use boolean indexing to select rows between the specified dates\n",
    "    selected_rows = df[(df['Date'] >= start_date) & (df['Date'] <= end_date)]\n",
    "    \n",
    "    return selected_rows\n",
    "\n",
    "# Example usage:\n",
    "# Assuming df is your DataFrame with a 'Date' column\n",
    "# selected_rows = select_rows_between_dates(df)\n"
   ]
  },
  {
   "cell_type": "markdown",
   "id": "f38ab10e-31f1-4f78-b66d-f89fa96e70e4",
   "metadata": {},
   "source": [
    "Q13. To use the basic functions of pandas, what is the first and foremost necessary library that needs to\n",
    "be imported?"
   ]
  }
 ],
 "metadata": {
  "kernelspec": {
   "display_name": "Python 3 (ipykernel)",
   "language": "python",
   "name": "python3"
  },
  "language_info": {
   "codemirror_mode": {
    "name": "ipython",
    "version": 3
   },
   "file_extension": ".py",
   "mimetype": "text/x-python",
   "name": "python",
   "nbconvert_exporter": "python",
   "pygments_lexer": "ipython3",
   "version": "3.10.8"
  }
 },
 "nbformat": 4,
 "nbformat_minor": 5
}
